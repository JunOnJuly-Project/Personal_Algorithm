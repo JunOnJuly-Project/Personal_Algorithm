{
 "cells": [
  {
   "cell_type": "markdown",
   "id": "4a26ddb0",
   "metadata": {},
   "source": [
    "# 알고리즘에 유용한 자료구조들"
   ]
  },
  {
   "cell_type": "markdown",
   "id": "64b02df7",
   "metadata": {},
   "source": [
    "# 세트"
   ]
  },
  {
   "cell_type": "markdown",
   "id": "bb0c0b33",
   "metadata": {},
   "source": [
    "## 사용 이유\n",
    "---"
   ]
  },
  {
   "cell_type": "markdown",
   "id": "f9f5a1ff",
   "metadata": {},
   "source": [
    "* 중복을 허용하지 않음\n",
    "* 해싱 기반 자료구조로 검색이 빠름\n",
    "* 집합처럼 작동하며 합집합 / 차집합 / 교집합 등을 구하기 편함"
   ]
  },
  {
   "cell_type": "markdown",
   "id": "1581bbd9",
   "metadata": {},
   "source": [
    "## 생성 / 할당 방법\n",
    "---"
   ]
  },
  {
   "cell_type": "markdown",
   "id": "6ec01ac1",
   "metadata": {},
   "source": [
    "### 생성자\n",
    "---"
   ]
  },
  {
   "cell_type": "code",
   "execution_count": 9,
   "id": "fa6bb20a",
   "metadata": {},
   "outputs": [
    {
     "name": "stdout",
     "output_type": "stream",
     "text": [
      "set_1 : set()\n",
      "set_2 : {1, 2, 3}\n",
      "set_3 : {'h', 'a', 'p', 'y'}\n",
      "set_4 : {}\n",
      "set_4 의 데이터 타입 : <class 'dict'>\n",
      "set_5 : {1, 2, 3}\n",
      "set_6 : {'happy'}\n"
     ]
    }
   ],
   "source": [
    "set_1 = set()\n",
    "set_2 = set([1, 2, 2, 3])\n",
    "set_3 = set('happy')\n",
    "\n",
    "set_4 = {}             # X\n",
    "set_5 = {1, 2, 2, 3}\n",
    "set_6 = {'happy'}\n",
    "\n",
    "print(f'set_1 : {set_1}')\n",
    "print(f'set_2 : {set_2}')      \n",
    "print(f'set_3 : {set_3}')      \n",
    "print(f'set_4 : {set_4}')\n",
    "print(f'set_4 의 데이터 타입 : {type(set_4)}')\n",
    "print(f'set_5 : {set_5}')      \n",
    "print(f'set_6 : {set_6}')      "
   ]
  },
  {
   "cell_type": "markdown",
   "id": "4bd6f320",
   "metadata": {},
   "source": [
    "## 메서드\n",
    "---"
   ]
  },
  {
   "cell_type": "markdown",
   "id": "0adeb405",
   "metadata": {},
   "source": [
    "### 원소 추가\n",
    "---"
   ]
  },
  {
   "cell_type": "markdown",
   "id": "9210233b",
   "metadata": {},
   "source": [
    "#### add"
   ]
  },
  {
   "cell_type": "code",
   "execution_count": 17,
   "id": "b5ca6550",
   "metadata": {
    "scrolled": false
   },
   "outputs": [
    {
     "name": "stdout",
     "output_type": "stream",
     "text": [
      "add(1) 결과 : {1}\n",
      "add(2) 결과 : {1, 2}\n",
      "add(1) 결과 : {1, 2}\n"
     ]
    }
   ],
   "source": [
    "temp_set = set()\n",
    "\n",
    "temp_set.add(1)\n",
    "print(f'add(1) 결과 : {temp_set}')\n",
    "\n",
    "temp_set.add(2)\n",
    "print(f'add(2) 결과 : {temp_set}')\n",
    "\n",
    "temp_set.add(1)\n",
    "print(f'add(1) 결과 : {temp_set}')"
   ]
  },
  {
   "cell_type": "markdown",
   "id": "e4dc55a8",
   "metadata": {},
   "source": [
    "### 원소 제거\n",
    "---"
   ]
  },
  {
   "cell_type": "markdown",
   "id": "7e591600",
   "metadata": {},
   "source": [
    "#### remove"
   ]
  },
  {
   "cell_type": "code",
   "execution_count": 2,
   "id": "557a7583",
   "metadata": {},
   "outputs": [
    {
     "name": "stdout",
     "output_type": "stream",
     "text": [
      "remove(1) 결과 : {2, 3}\n"
     ]
    }
   ],
   "source": [
    "temp_set = set([1, 2, 3])\n",
    "\n",
    "temp_set.remove(1)\n",
    "print(f'remove(1) 결과 : {temp_set}')"
   ]
  },
  {
   "cell_type": "code",
   "execution_count": 3,
   "id": "783029fb",
   "metadata": {},
   "outputs": [
    {
     "ename": "KeyError",
     "evalue": "4",
     "output_type": "error",
     "traceback": [
      "\u001b[1;31m---------------------------------------------------------------------------\u001b[0m",
      "\u001b[1;31mKeyError\u001b[0m                                  Traceback (most recent call last)",
      "Cell \u001b[1;32mIn[3], line 1\u001b[0m\n\u001b[1;32m----> 1\u001b[0m \u001b[43mtemp_set\u001b[49m\u001b[38;5;241;43m.\u001b[39;49m\u001b[43mremove\u001b[49m\u001b[43m(\u001b[49m\u001b[38;5;241;43m4\u001b[39;49m\u001b[43m)\u001b[49m\n",
      "\u001b[1;31mKeyError\u001b[0m: 4"
     ]
    }
   ],
   "source": [
    "temp_set.remove(4)"
   ]
  },
  {
   "cell_type": "markdown",
   "id": "6b872228",
   "metadata": {},
   "source": [
    "#### discard"
   ]
  },
  {
   "cell_type": "code",
   "execution_count": 49,
   "id": "e16c1e57",
   "metadata": {},
   "outputs": [
    {
     "name": "stdout",
     "output_type": "stream",
     "text": [
      "remove(1) 결과 : {2, 3}\n"
     ]
    }
   ],
   "source": [
    "temp_set = set([1, 2, 3])\n",
    "\n",
    "temp_set.discard(1)\n",
    "print(f'remove(1) 결과 : {temp_set}')\n",
    "\n",
    "temp_set.discard(4)"
   ]
  },
  {
   "cell_type": "markdown",
   "id": "94a72778",
   "metadata": {},
   "source": [
    "#### pop"
   ]
  },
  {
   "cell_type": "code",
   "execution_count": 6,
   "id": "fcd25873",
   "metadata": {},
   "outputs": [
    {
     "name": "stdout",
     "output_type": "stream",
     "text": [
      "pop() 결과 : {2}\n",
      "pop() 리턴 : 2\n"
     ]
    }
   ],
   "source": [
    "temp_set = set([2, 1])\n",
    "\n",
    "temp_set.pop()\n",
    "print(f'pop() 결과 : {temp_set}')\n",
    "\n",
    "print(f'pop() 리턴 : {temp_set.pop()}')"
   ]
  },
  {
   "cell_type": "code",
   "execution_count": 7,
   "id": "aa8f3a81",
   "metadata": {},
   "outputs": [
    {
     "ename": "KeyError",
     "evalue": "'pop from an empty set'",
     "output_type": "error",
     "traceback": [
      "\u001b[1;31m---------------------------------------------------------------------------\u001b[0m",
      "\u001b[1;31mKeyError\u001b[0m                                  Traceback (most recent call last)",
      "Cell \u001b[1;32mIn[7], line 1\u001b[0m\n\u001b[1;32m----> 1\u001b[0m \u001b[43mtemp_set\u001b[49m\u001b[38;5;241;43m.\u001b[39;49m\u001b[43mpop\u001b[49m\u001b[43m(\u001b[49m\u001b[43m)\u001b[49m\n",
      "\u001b[1;31mKeyError\u001b[0m: 'pop from an empty set'"
     ]
    }
   ],
   "source": [
    "temp_set.pop()"
   ]
  },
  {
   "cell_type": "markdown",
   "id": "4da29dba",
   "metadata": {},
   "source": [
    "### 초기화\n",
    "---"
   ]
  },
  {
   "cell_type": "markdown",
   "id": "51bcf7d6",
   "metadata": {},
   "source": [
    "#### clear"
   ]
  },
  {
   "cell_type": "code",
   "execution_count": 58,
   "id": "1e49e299",
   "metadata": {},
   "outputs": [
    {
     "name": "stdout",
     "output_type": "stream",
     "text": [
      "pop() 결과 : set()\n",
      "set() 결과 : set()\n"
     ]
    }
   ],
   "source": [
    "temp_set = set([2, 1, 3])\n",
    "\n",
    "temp_set.clear()\n",
    "print(f'pop() 결과 : {temp_set}')\n",
    "\n",
    "temp_set = set([2, 1, 3])\n",
    "temp_set = set()\n",
    "print(f'set() 결과 : {temp_set}')"
   ]
  },
  {
   "cell_type": "markdown",
   "id": "4e12769a",
   "metadata": {},
   "source": [
    "### 검색"
   ]
  },
  {
   "cell_type": "markdown",
   "id": "e4a41df2",
   "metadata": {},
   "source": [
    "#### in"
   ]
  },
  {
   "cell_type": "code",
   "execution_count": 62,
   "id": "6a25c237",
   "metadata": {},
   "outputs": [
    {
     "name": "stdout",
     "output_type": "stream",
     "text": [
      "1 in 결과 : True\n",
      "4 in 결과 : False\n"
     ]
    }
   ],
   "source": [
    "temp_set = set([2, 1, 3])\n",
    "\n",
    "print(f'1 in 결과 : {1 in temp_set}')\n",
    "print(f'4 in 결과 : {4 in temp_set}')"
   ]
  },
  {
   "cell_type": "markdown",
   "id": "8ff58c4c",
   "metadata": {},
   "source": [
    "### 비교\n",
    "---"
   ]
  },
  {
   "cell_type": "markdown",
   "id": "30976f3b",
   "metadata": {},
   "source": [
    "#### |"
   ]
  },
  {
   "cell_type": "code",
   "execution_count": 14,
   "id": "5cfc3aaf",
   "metadata": {
    "scrolled": true
   },
   "outputs": [
    {
     "name": "stdout",
     "output_type": "stream",
     "text": [
      "|= set([2, 3, 4]) 결과 : {1, 2, 3, 4}\n"
     ]
    }
   ],
   "source": [
    "temp_set = set([1, 2, 3])\n",
    "\n",
    "temp_set |= set([2, 3, 4])\n",
    "print(f'|= set([2, 3, 4]) 결과 : {temp_set}')"
   ]
  },
  {
   "cell_type": "markdown",
   "id": "680bc8b3",
   "metadata": {},
   "source": [
    "#### &"
   ]
  },
  {
   "cell_type": "code",
   "execution_count": 24,
   "id": "d2a29d37",
   "metadata": {
    "scrolled": true
   },
   "outputs": [
    {
     "name": "stdout",
     "output_type": "stream",
     "text": [
      "&= set([2, 3, 4]) 결과 : {2, 3}\n"
     ]
    }
   ],
   "source": [
    "temp_set = set([1, 2, 3])\n",
    "\n",
    "temp_set &= set([2, 3, 4])\n",
    "print(f'&= set([2, 3, 4]) 결과 : {temp_set}')"
   ]
  },
  {
   "cell_type": "markdown",
   "id": "d1def5b5",
   "metadata": {},
   "source": [
    "#### -"
   ]
  },
  {
   "cell_type": "code",
   "execution_count": 21,
   "id": "dff3ce68",
   "metadata": {
    "scrolled": true
   },
   "outputs": [
    {
     "name": "stdout",
     "output_type": "stream",
     "text": [
      "-= set([2, 3, 4]) 결과 : {1}\n"
     ]
    }
   ],
   "source": [
    "temp_set = set([1, 2, 3])\n",
    "\n",
    "temp_set -= set([2, 3, 4])\n",
    "print(f'-= set([2, 3, 4]) 결과 : {temp_set}')"
   ]
  },
  {
   "cell_type": "markdown",
   "id": "f8d49144",
   "metadata": {},
   "source": [
    "#### ^"
   ]
  },
  {
   "cell_type": "code",
   "execution_count": 23,
   "id": "46bb1fb2",
   "metadata": {
    "scrolled": true
   },
   "outputs": [
    {
     "name": "stdout",
     "output_type": "stream",
     "text": [
      "^= set([2, 3, 4]) 결과 : {1, 4}\n"
     ]
    }
   ],
   "source": [
    "temp_set = set([1, 2, 3])\n",
    "\n",
    "temp_set ^= set([2, 3, 4])\n",
    "print(f'^= set([2, 3, 4]) 결과 : {temp_set}')"
   ]
  },
  {
   "cell_type": "markdown",
   "id": "14b4ee70",
   "metadata": {},
   "source": [
    "#### isdisjoint"
   ]
  },
  {
   "cell_type": "code",
   "execution_count": 29,
   "id": "38d0d75c",
   "metadata": {},
   "outputs": [
    {
     "name": "stdout",
     "output_type": "stream",
     "text": [
      "isdisjoint(set([2, 3, 4]) 결과 : False\n",
      "isdisjoint(set([4, 5, 6]) 결과 : True\n"
     ]
    }
   ],
   "source": [
    "temp_set = set([1, 2, 3])\n",
    "\n",
    "print(f'isdisjoint(set([2, 3, 4]) 결과 : {temp_set.isdisjoint(set([2, 3, 4]))}')\n",
    "print(f'isdisjoint(set([4, 5, 6]) 결과 : {temp_set.isdisjoint(set([4, 5, 6]))}')"
   ]
  },
  {
   "cell_type": "markdown",
   "id": "a82d1346",
   "metadata": {},
   "source": [
    "#### issubset"
   ]
  },
  {
   "cell_type": "code",
   "execution_count": 39,
   "id": "78afc0cc",
   "metadata": {
    "scrolled": true
   },
   "outputs": [
    {
     "name": "stdout",
     "output_type": "stream",
     "text": [
      "issubset(set([2, 3, 4]) 결과 : False\n",
      "issubset(set([2, 3]) 결과 : True\n",
      "issubset(set([1, 2, 3]) 결과 : True\n",
      "\n",
      "<= set([2, 3, 4] 결과 : False\n",
      "<= set([2, 3] 결과 : True\n",
      "<= set([1, 2, 3] 결과 : True\n",
      "\n",
      "< set([2, 3, 4] 결과 : False\n",
      "< set([2, 3] 결과 : True\n",
      "< set([1, 2, 3] 결과 : False\n"
     ]
    }
   ],
   "source": [
    "temp_set = set([1, 2, 3])\n",
    "\n",
    "print(f'issubset(set([2, 3, 4]) 결과 : {temp_set.issubset(set([1, 2, 4]))}')\n",
    "print(f'issubset(set([2, 3]) 결과 : {temp_set.issubset(set([1, 2, 3, 4]))}')\n",
    "print(f'issubset(set([1, 2, 3]) 결과 : {temp_set.issubset(set([1, 2, 3]))}\\n')\n",
    "\n",
    "print(f'<= set([2, 3, 4] 결과 : {temp_set <= set([2, 3, 4])}')\n",
    "print(f'<= set([2, 3] 결과 : {temp_set <= set([1, 2, 3, 4])}')\n",
    "print(f'<= set([1, 2, 3] 결과 : {temp_set <= set([1, 2, 3])}\\n')\n",
    "\n",
    "print(f'< set([2, 3, 4] 결과 : {temp_set < set([2, 3, 4])}')\n",
    "print(f'< set([2, 3] 결과 : {temp_set < set([1, 2, 3, 4])}')\n",
    "print(f'< set([1, 2, 3] 결과 : {temp_set < set([1, 2, 3])}')"
   ]
  },
  {
   "cell_type": "markdown",
   "id": "6ca9db9e",
   "metadata": {},
   "source": [
    "#### issuperset"
   ]
  },
  {
   "cell_type": "code",
   "execution_count": 44,
   "id": "f1ad8de9",
   "metadata": {},
   "outputs": [
    {
     "name": "stdout",
     "output_type": "stream",
     "text": [
      "issuperset(set([2, 3, 4]) 결과 : False\n",
      "issuperset(set([2, 3]) 결과 : True\n",
      "issuperset(set([1, 2, 3]) 결과 : True\n",
      "\n",
      ">= set([2, 3, 4] 결과 : False\n",
      ">= set([2, 3] 결과 : True\n",
      ">= set([1, 2, 3] 결과 : True\n",
      "\n",
      "> set([2, 3, 4] 결과 : False\n",
      "> set([2, 3] 결과 : True\n",
      "> set([1, 2, 3] 결과 : False\n"
     ]
    }
   ],
   "source": [
    "temp_set = set([1, 2, 3])\n",
    "\n",
    "print(f'issuperset(set([2, 3, 4]) 결과 : {temp_set.issuperset(set([1, 2, 4]))}')\n",
    "print(f'issuperset(set([2, 3]) 결과 : {temp_set.issuperset(set([1, 2]))}')\n",
    "print(f'issuperset(set([1, 2, 3]) 결과 : {temp_set.issuperset(set([1, 2, 3]))}\\n')\n",
    "\n",
    "print(f'>= set([2, 3, 4] 결과 : {temp_set >= set([1, 2, 4])}')\n",
    "print(f'>= set([2, 3] 결과 : {temp_set >= set([1, 2])}')\n",
    "print(f'>= set([1, 2, 3] 결과 : {temp_set >= set([1, 2, 3])}\\n')\n",
    "\n",
    "print(f'> set([2, 3, 4] 결과 : {temp_set > set([1, 2, 4])}')\n",
    "print(f'> set([2, 3] 결과 : {temp_set > set([1, 2])}')\n",
    "print(f'> set([1, 2, 3] 결과 : {temp_set > set([1, 2, 3])}')"
   ]
  }
 ],
 "metadata": {
  "kernelspec": {
   "display_name": "Python 3 (ipykernel)",
   "language": "python",
   "name": "python3"
  },
  "language_info": {
   "codemirror_mode": {
    "name": "ipython",
    "version": 3
   },
   "file_extension": ".py",
   "mimetype": "text/x-python",
   "name": "python",
   "nbconvert_exporter": "python",
   "pygments_lexer": "ipython3",
   "version": "3.11.4"
  }
 },
 "nbformat": 4,
 "nbformat_minor": 5
}
