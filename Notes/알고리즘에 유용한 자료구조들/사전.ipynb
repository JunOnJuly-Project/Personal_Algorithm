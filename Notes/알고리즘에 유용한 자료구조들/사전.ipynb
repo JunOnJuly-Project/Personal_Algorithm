{
 "cells": [
  {
   "cell_type": "markdown",
   "id": "4a26ddb0",
   "metadata": {},
   "source": [
    "# 알고리즘에 유용한 자료구조들"
   ]
  },
  {
   "cell_type": "markdown",
   "id": "64b02df7",
   "metadata": {},
   "source": [
    "# 사전"
   ]
  },
  {
   "cell_type": "markdown",
   "id": "bb0c0b33",
   "metadata": {},
   "source": [
    "## 사용 이유\n",
    "---"
   ]
  },
  {
   "cell_type": "markdown",
   "id": "f9f5a1ff",
   "metadata": {},
   "source": [
    "* 키 - 값 으로 검색이나 분류에 용이함"
   ]
  },
  {
   "cell_type": "markdown",
   "id": "1581bbd9",
   "metadata": {},
   "source": [
    "## 생성 / 할당 방법\n",
    "---"
   ]
  },
  {
   "cell_type": "markdown",
   "id": "6ec01ac1",
   "metadata": {},
   "source": [
    "### 생성자\n",
    "---"
   ]
  },
  {
   "cell_type": "code",
   "execution_count": 3,
   "id": "fa6bb20a",
   "metadata": {},
   "outputs": [
    {
     "name": "stdout",
     "output_type": "stream",
     "text": [
      "dict_1 : {}\n",
      "dict_2 : {'일': 1, '이': 2}\n",
      "dict_3 : {'한식': ['비빔밥', '갈비찜'], '일식': ['초밥', '타코야키']}\n",
      "dict_4 : {'일': 1, '이': 2}\n",
      "dict_5 : {'일': 1, '이': 2}\n",
      "dict_6 : {'일': 1, '이': 2}\n",
      "dict_7 : {'일': 1, '이': 2}\n",
      "dict_8 : {'일': 1, '이': 2, '삼': 3}\n"
     ]
    }
   ],
   "source": [
    "dicts = [\n",
    "    {},\n",
    "    {'일':1, '이':2},\n",
    "    {'한식':['비빔밥', '갈비찜'], '일식':['초밥', '타코야키']},\n",
    "    {c:i for c, i in zip(['일', '이'], [1, 2])},\n",
    "    dict(일=1, 이=2),\n",
    "    dict(zip(['일', '이'], [1, 2])),\n",
    "    dict([('일', 1), ('이', 2)]),\n",
    "    dict({'일':1, '이':2}, 삼=3)\n",
    "]\n",
    "\n",
    "for i in range(len(dicts)):\n",
    "    print(f'dict_{i+1} : {dicts[i]}')"
   ]
  },
  {
   "cell_type": "markdown",
   "id": "4bd6f320",
   "metadata": {},
   "source": [
    "## 사용 방법\n",
    "---"
   ]
  },
  {
   "cell_type": "markdown",
   "id": "0adeb405",
   "metadata": {},
   "source": [
    "### 원소 추가\n",
    "---"
   ]
  },
  {
   "cell_type": "markdown",
   "id": "74900b21",
   "metadata": {},
   "source": [
    "#### []"
   ]
  },
  {
   "cell_type": "code",
   "execution_count": 6,
   "id": "b5ca6550",
   "metadata": {
    "scrolled": true
   },
   "outputs": [
    {
     "name": "stdout",
     "output_type": "stream",
     "text": [
      "['일'] = 1 결과 : {'일': 1}\n"
     ]
    }
   ],
   "source": [
    "temp_dict = {}\n",
    "\n",
    "temp_dict['일'] = 1\n",
    "print(f\"['일'] = 1 결과 : {temp_dict}\")"
   ]
  },
  {
   "cell_type": "markdown",
   "id": "e4dc55a8",
   "metadata": {},
   "source": [
    "### 원소 제거\n",
    "---"
   ]
  },
  {
   "cell_type": "markdown",
   "id": "7e591600",
   "metadata": {},
   "source": [
    "#### del"
   ]
  },
  {
   "cell_type": "code",
   "execution_count": 8,
   "id": "557a7583",
   "metadata": {},
   "outputs": [
    {
     "name": "stdout",
     "output_type": "stream",
     "text": [
      "del temp_dict['일'] 결과 : {'이': 2}\n"
     ]
    }
   ],
   "source": [
    "temp_dict = {'일':1, '이':2}\n",
    "\n",
    "del temp_dict['일']\n",
    "print(f\"del temp_dict['일'] 결과 : {temp_dict}\")"
   ]
  },
  {
   "cell_type": "code",
   "execution_count": 9,
   "id": "0739745c",
   "metadata": {},
   "outputs": [
    {
     "ename": "KeyError",
     "evalue": "'삼'",
     "output_type": "error",
     "traceback": [
      "\u001b[1;31m---------------------------------------------------------------------------\u001b[0m",
      "\u001b[1;31mKeyError\u001b[0m                                  Traceback (most recent call last)",
      "Cell \u001b[1;32mIn[9], line 1\u001b[0m\n\u001b[1;32m----> 1\u001b[0m \u001b[38;5;28;01mdel\u001b[39;00m temp_dict[\u001b[38;5;124m'\u001b[39m\u001b[38;5;124m삼\u001b[39m\u001b[38;5;124m'\u001b[39m]\n",
      "\u001b[1;31mKeyError\u001b[0m: '삼'"
     ]
    }
   ],
   "source": [
    "del temp_dict['삼']"
   ]
  },
  {
   "cell_type": "markdown",
   "id": "94a72778",
   "metadata": {},
   "source": [
    "#### pop"
   ]
  },
  {
   "cell_type": "code",
   "execution_count": 33,
   "id": "fcd25873",
   "metadata": {},
   "outputs": [
    {
     "name": "stdout",
     "output_type": "stream",
     "text": [
      "pop('일') 결과 : {'이': 2}\n",
      "pop('이') 리턴 : 2\n"
     ]
    }
   ],
   "source": [
    "temp_dict = {'일':1, '이':2}\n",
    "\n",
    "temp_dict.pop('일')\n",
    "print(f\"pop('일') 결과 : {temp_dict}\")\n",
    "print(f\"pop('이') 리턴 : {temp_dict.pop('이')}\")"
   ]
  },
  {
   "cell_type": "code",
   "execution_count": 15,
   "id": "aa8f3a81",
   "metadata": {},
   "outputs": [
    {
     "ename": "KeyError",
     "evalue": "'삼'",
     "output_type": "error",
     "traceback": [
      "\u001b[1;31m---------------------------------------------------------------------------\u001b[0m",
      "\u001b[1;31mKeyError\u001b[0m                                  Traceback (most recent call last)",
      "Cell \u001b[1;32mIn[15], line 1\u001b[0m\n\u001b[1;32m----> 1\u001b[0m temp_dict\u001b[38;5;241m.\u001b[39mpop(\u001b[38;5;124m'\u001b[39m\u001b[38;5;124m삼\u001b[39m\u001b[38;5;124m'\u001b[39m)\n",
      "\u001b[1;31mKeyError\u001b[0m: '삼'"
     ]
    }
   ],
   "source": [
    "temp_dict.pop('삼')"
   ]
  },
  {
   "cell_type": "markdown",
   "id": "4da29dba",
   "metadata": {},
   "source": [
    "### 초기화\n",
    "---"
   ]
  },
  {
   "cell_type": "markdown",
   "id": "51bcf7d6",
   "metadata": {},
   "source": [
    "#### clear"
   ]
  },
  {
   "cell_type": "code",
   "execution_count": 18,
   "id": "1e49e299",
   "metadata": {},
   "outputs": [
    {
     "name": "stdout",
     "output_type": "stream",
     "text": [
      "clear() 결과 : {}\n",
      "결과 : {}\n"
     ]
    }
   ],
   "source": [
    "temp_dict = {'일':1, '이':2}\n",
    "\n",
    "temp_dict.clear()\n",
    "print(f'clear() 결과 : {temp_dict}')\n",
    "\n",
    "temp_dict = {'일':1, '이':2}\n",
    "temp_dict = {}\n",
    "print(f'결과 : {temp_dict}')"
   ]
  },
  {
   "cell_type": "markdown",
   "id": "4e12769a",
   "metadata": {},
   "source": [
    "### 검색"
   ]
  },
  {
   "cell_type": "markdown",
   "id": "33c62a65",
   "metadata": {},
   "source": [
    "#### []"
   ]
  },
  {
   "cell_type": "code",
   "execution_count": 31,
   "id": "49534316",
   "metadata": {},
   "outputs": [
    {
     "name": "stdout",
     "output_type": "stream",
     "text": [
      "'['일'] 결과 : 1\n"
     ]
    }
   ],
   "source": [
    "temp_dict = {'일':1, '이':2}\n",
    "\n",
    "print(f\"'['일'] 결과 : {temp_dict['일']}\")"
   ]
  },
  {
   "cell_type": "code",
   "execution_count": 32,
   "id": "f5ffe950",
   "metadata": {},
   "outputs": [
    {
     "ename": "KeyError",
     "evalue": "1",
     "output_type": "error",
     "traceback": [
      "\u001b[1;31m---------------------------------------------------------------------------\u001b[0m",
      "\u001b[1;31mKeyError\u001b[0m                                  Traceback (most recent call last)",
      "Cell \u001b[1;32mIn[32], line 1\u001b[0m\n\u001b[1;32m----> 1\u001b[0m \u001b[38;5;28mprint\u001b[39m(\u001b[38;5;124mf\u001b[39m\u001b[38;5;124m\"\u001b[39m\u001b[38;5;124m'\u001b[39m\u001b[38;5;124m[1] 결과 : \u001b[39m\u001b[38;5;132;01m{\u001b[39;00mtemp_dict[\u001b[38;5;241m1\u001b[39m]\u001b[38;5;132;01m}\u001b[39;00m\u001b[38;5;124m\"\u001b[39m)\n\u001b[0;32m      2\u001b[0m \u001b[38;5;28mprint\u001b[39m(\u001b[38;5;124mf\u001b[39m\u001b[38;5;124m\"\u001b[39m\u001b[38;5;124m'\u001b[39m\u001b[38;5;124m[\u001b[39m\u001b[38;5;124m'\u001b[39m\u001b[38;5;124m삼\u001b[39m\u001b[38;5;124m'\u001b[39m\u001b[38;5;124m] 결과 : \u001b[39m\u001b[38;5;132;01m{\u001b[39;00mtemp_dict[\u001b[38;5;124m'\u001b[39m\u001b[38;5;124m삼\u001b[39m\u001b[38;5;124m'\u001b[39m]\u001b[38;5;132;01m}\u001b[39;00m\u001b[38;5;124m\"\u001b[39m)\n",
      "\u001b[1;31mKeyError\u001b[0m: 1"
     ]
    }
   ],
   "source": [
    "print(f\"'[1] 결과 : {temp_dict[1]}\")\n",
    "print(f\"'['삼'] 결과 : {temp_dict['삼']}\")"
   ]
  },
  {
   "cell_type": "markdown",
   "id": "e4a41df2",
   "metadata": {},
   "source": [
    "#### in"
   ]
  },
  {
   "cell_type": "code",
   "execution_count": 19,
   "id": "6a25c237",
   "metadata": {
    "scrolled": true
   },
   "outputs": [
    {
     "name": "stdout",
     "output_type": "stream",
     "text": [
      "'일' in 결과 : True\n",
      "'1' in 결과 : False\n"
     ]
    }
   ],
   "source": [
    "temp_dict = {'일':1, '이':2}\n",
    "\n",
    "print(f\"'일' in 결과 : {'일' in temp_dict}\")\n",
    "print(f\"'1' in 결과 : {1 in temp_dict}\")"
   ]
  },
  {
   "cell_type": "markdown",
   "id": "f123be4d",
   "metadata": {},
   "source": [
    "#### get"
   ]
  },
  {
   "cell_type": "code",
   "execution_count": 23,
   "id": "06d6d80a",
   "metadata": {},
   "outputs": [
    {
     "name": "stdout",
     "output_type": "stream",
     "text": [
      "get('일') 결과 : 1\n",
      "get(1) 결과 : None\n",
      "get('삼') 결과 : None\n"
     ]
    }
   ],
   "source": [
    "temp_dict = {'일':1, '이':2}\n",
    "\n",
    "print(f\"get('일') 결과 : {temp_dict.get('일')}\")\n",
    "print(f\"get(1) 결과 : {temp_dict.get(1)}\")\n",
    "print(f\"get('삼') 결과 : {temp_dict.get('심')}\")"
   ]
  },
  {
   "cell_type": "markdown",
   "id": "46fb1141",
   "metadata": {},
   "source": [
    "#### items"
   ]
  },
  {
   "cell_type": "code",
   "execution_count": 34,
   "id": "91f5a057",
   "metadata": {},
   "outputs": [
    {
     "name": "stdout",
     "output_type": "stream",
     "text": [
      "items() 결과 : dict_items([('일', 1), ('이', 2)])\n"
     ]
    }
   ],
   "source": [
    "temp_dict = {'일':1, '이':2}\n",
    "\n",
    "print(f\"items() 결과 : {temp_dict.items()}\")"
   ]
  },
  {
   "cell_type": "markdown",
   "id": "0714946a",
   "metadata": {},
   "source": [
    "#### keys"
   ]
  },
  {
   "cell_type": "code",
   "execution_count": 35,
   "id": "8a8e3754",
   "metadata": {},
   "outputs": [
    {
     "name": "stdout",
     "output_type": "stream",
     "text": [
      "keys() 결과 : dict_keys(['일', '이'])\n"
     ]
    }
   ],
   "source": [
    "temp_dict = {'일':1, '이':2}\n",
    "\n",
    "print(f\"keys() 결과 : {temp_dict.keys()}\")"
   ]
  },
  {
   "cell_type": "markdown",
   "id": "78e5c637",
   "metadata": {},
   "source": [
    "#### values"
   ]
  },
  {
   "cell_type": "code",
   "execution_count": 36,
   "id": "9a5dfb66",
   "metadata": {},
   "outputs": [
    {
     "name": "stdout",
     "output_type": "stream",
     "text": [
      "values() 결과 : dict_values([1, 2])\n"
     ]
    }
   ],
   "source": [
    "temp_dict = {'일':1, '이':2}\n",
    "\n",
    "print(f\"values() 결과 : {temp_dict.values()}\")"
   ]
  }
 ],
 "metadata": {
  "kernelspec": {
   "display_name": "Python 3 (ipykernel)",
   "language": "python",
   "name": "python3"
  },
  "language_info": {
   "codemirror_mode": {
    "name": "ipython",
    "version": 3
   },
   "file_extension": ".py",
   "mimetype": "text/x-python",
   "name": "python",
   "nbconvert_exporter": "python",
   "pygments_lexer": "ipython3",
   "version": "3.11.3"
  }
 },
 "nbformat": 4,
 "nbformat_minor": 5
}
