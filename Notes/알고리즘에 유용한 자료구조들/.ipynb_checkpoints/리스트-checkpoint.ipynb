{
 "cells": [
  {
   "cell_type": "markdown",
   "id": "3682370d",
   "metadata": {},
   "source": [
    "# 알고리즘에 유용한 자료구조들"
   ]
  },
  {
   "cell_type": "markdown",
   "id": "23fa1140",
   "metadata": {},
   "source": [
    "# 리스트"
   ]
  },
  {
   "cell_type": "markdown",
   "id": "89d1be3d",
   "metadata": {},
   "source": [
    "## 사용 이유\n",
    "---"
   ]
  },
  {
   "cell_type": "markdown",
   "id": "b1462671",
   "metadata": {},
   "source": [
    "* 다른 언어들에 비해 굉장히 편한 iterator\n",
    "* 가장 보편적으로 사용하는 iterator\n",
    "* 크기 지정 필요 없음\n",
    "* 자료형 지정 필요 없음\n",
    "* 다른 자료형 동시 사용 가능\n",
    "* 중첩 가능"
   ]
  },
  {
   "cell_type": "markdown",
   "id": "4adf304c",
   "metadata": {},
   "source": [
    "## 할당 방법\n",
    "---"
   ]
  },
  {
   "cell_type": "markdown",
   "id": "ab8cac93",
   "metadata": {},
   "source": [
    "### 생성자\n",
    "---"
   ]
  },
  {
   "cell_type": "code",
   "execution_count": 89,
   "id": "b4c48311",
   "metadata": {},
   "outputs": [
    {
     "name": "stdout",
     "output_type": "stream",
     "text": [
      "list_1 : []\n",
      "list_2 : [1, 2, 3, '알고리즘', '에']\n",
      "list_3 : [['유용한'], '자료구조들']\n",
      "list_4 : []\n",
      "list_5 : [['유용한'], '자료구조들']\n",
      "list_6 : [0, 1, 2, 3, 4, 5, 6, 7, 8, 9]\n",
      "list_7 : [5, 6, 7, 8, 9]\n"
     ]
    }
   ],
   "source": [
    "list_1 = []\n",
    "list_2 = [1, 2, 3, '알고리즘', '에']\n",
    "list_3 = [['유용한'], '자료구조들']\n",
    "list_4 = list()\n",
    "list_5 = list(list_3)\n",
    "list_6 = list(range(10))\n",
    "list_7 = list(range(5, 10))\n",
    "\n",
    "print(f'list_1 : {list_1}')\n",
    "print(f'list_2 : {list_2}')\n",
    "print(f'list_3 : {list_3}')\n",
    "print(f'list_4 : {list_4}')\n",
    "print(f'list_5 : {list_5}')\n",
    "print(f'list_6 : {list_6}')\n",
    "print(f'list_7 : {list_7}')"
   ]
  },
  {
   "cell_type": "markdown",
   "id": "156806a5",
   "metadata": {},
   "source": [
    "### 지능형 리스트\n",
    "---"
   ]
  },
  {
   "cell_type": "code",
   "execution_count": 90,
   "id": "6efd5ad3",
   "metadata": {
    "scrolled": true
   },
   "outputs": [
    {
     "name": "stdout",
     "output_type": "stream",
     "text": [
      "list_1 : [0, 0, 0, 0, 0, 0, 0, 0, 0, 0]\n",
      "list_2 : [0, 1, 2, 3, 4, 5, 6, 7, 8, 9]\n",
      "list_3 : [[0, 0], [0, 1], [0, 2], [0, 3], [0, 4], [1, 0], [1, 1], [1, 2], [1, 3], [1, 4]]\n",
      "list_4 : [0, 1, 2, 3, 4, 1, 2, 3, 4, 5]\n",
      "list_5 : [[[0, 0], [1, 0]], [[0, 1], [1, 1]], [[0, 2], [1, 2]], [[0, 3], [1, 3]], [[0, 4], [1, 4]]]\n"
     ]
    }
   ],
   "source": [
    "list_1 = [0 for i in range(10)]\n",
    "list_2 = [i for i in range(10)]\n",
    "list_3 = [[i, j] for i in range(2) for j in range(5)]\n",
    "# == (순서)\n",
    "# for i in range(2):\n",
    "#     for j in range(5):\n",
    "#         [i, j]\n",
    "list_4 = [i+j for i in range(2) for j in range(5)]\n",
    "list_5 = [[[i, j] for i in range(2)] for j in range(5)]\n",
    "# == (순서)\n",
    "# for j in range(5):\n",
    "#     for i in range(2):\n",
    "#         [i, j]\n",
    "\n",
    "print(f'list_1 : {list_1}')\n",
    "print(f'list_2 : {list_2}')\n",
    "print(f'list_3 : {list_3}')\n",
    "print(f'list_4 : {list_4}')\n",
    "print(f'list_5 : {list_5}')"
   ]
  },
  {
   "cell_type": "markdown",
   "id": "44da4502",
   "metadata": {},
   "source": [
    "## 메서드\n",
    "---"
   ]
  },
  {
   "cell_type": "markdown",
   "id": "37bac743",
   "metadata": {},
   "source": [
    "### 원소 추가\n",
    "---"
   ]
  },
  {
   "cell_type": "markdown",
   "id": "fda5ee44",
   "metadata": {},
   "source": [
    "#### append"
   ]
  },
  {
   "cell_type": "code",
   "execution_count": 25,
   "id": "9a647d0a",
   "metadata": {
    "scrolled": true
   },
   "outputs": [
    {
     "name": "stdout",
     "output_type": "stream",
     "text": [
      "append(1) 결과 : [1]\n",
      "append([2, 3]) 결과 : [1, [2, 3]]\n",
      "temp_list[1].append([4]) 결과 : [1, [2, 3, [4]]]\n",
      "뜬금없이 안건드린 temp_list_copy : [1, [2, 3, [4]]]\n"
     ]
    }
   ],
   "source": [
    "temp_list = []\n",
    "temp_list_copy = temp_list\n",
    "\n",
    "temp_list.append(1)\n",
    "print(f'append(1) 결과 : {temp_list}')\n",
    "\n",
    "temp_list.append([2, 3])\n",
    "print(f'append([2, 3]) 결과 : {temp_list}')\n",
    "\n",
    "temp_list[1].append([4])\n",
    "print(f'temp_list[1].append([4]) 결과 : {temp_list}')\n",
    "\n",
    "print(f'뜬금없이 안건드린 temp_list_copy : {temp_list_copy}')"
   ]
  },
  {
   "cell_type": "markdown",
   "id": "2c81ef74",
   "metadata": {},
   "source": [
    "#### extend"
   ]
  },
  {
   "cell_type": "code",
   "execution_count": 30,
   "id": "c3da09fb",
   "metadata": {
    "scrolled": true
   },
   "outputs": [
    {
     "name": "stdout",
     "output_type": "stream",
     "text": [
      "extend([1, 2]) 결과 : [1, 2]\n",
      "extend([3, 4]) 결과 : [1, 2, 3, 4]\n",
      "extend([[5, 6]]) 결과 : [1, 2, 3, 4, [5, 6]]\n"
     ]
    }
   ],
   "source": [
    "temp_list = []\n",
    "\n",
    "temp_list.extend([1, 2])\n",
    "print(f'extend([1, 2]) 결과 : {temp_list}')\n",
    "\n",
    "temp_list.extend([3, 4])\n",
    "print(f'extend([3, 4]) 결과 : {temp_list}')\n",
    "\n",
    "temp_list.extend([[5, 6]])\n",
    "print(f'extend([[5, 6]]) 결과 : {temp_list}')"
   ]
  },
  {
   "cell_type": "markdown",
   "id": "3356dbb7",
   "metadata": {},
   "source": [
    "#### insert"
   ]
  },
  {
   "cell_type": "code",
   "execution_count": 33,
   "id": "dfffc68e",
   "metadata": {
    "scrolled": true
   },
   "outputs": [
    {
     "name": "stdout",
     "output_type": "stream",
     "text": [
      "insert(2, 6) 결과 : [0, 1, 6, 2, 3, 4, 5]\n",
      "insert(2, [7, 8] 결과 : [0, 1, 6, 2, [7, 8], 3, 4, 5]\n"
     ]
    }
   ],
   "source": [
    "temp_list = [0, 1, 2, 3, 4, 5]\n",
    "\n",
    "temp_list.insert(2, 6)\n",
    "print(f'insert(2, 6) 결과 : {temp_list}')\n",
    "\n",
    "temp_list.insert(4, [7, 8])\n",
    "print(f'insert(2, [7, 8]) 결과 : {temp_list}')"
   ]
  },
  {
   "cell_type": "markdown",
   "id": "c59b6667",
   "metadata": {},
   "source": [
    "#### +"
   ]
  },
  {
   "cell_type": "code",
   "execution_count": 100,
   "id": "f6a0c510",
   "metadata": {},
   "outputs": [
    {
     "name": "stdout",
     "output_type": "stream",
     "text": [
      "+ [6] 결과 : [0, 1, 2, 3, 4, 5, 6]\n",
      "+ [[6]] 결과 : [0, 1, 2, 3, 4, 5, 6, [6]]\n"
     ]
    }
   ],
   "source": [
    "temp_list = [0, 1, 2, 3, 4, 5]\n",
    "\n",
    "temp_list = temp_list + [6]\n",
    "print(f'+ [6] 결과 : {temp_list}')\n",
    "\n",
    "temp_list = temp_list + [[6]]\n",
    "print(f'+ [[6]] 결과 : {temp_list}')"
   ]
  },
  {
   "cell_type": "markdown",
   "id": "69c8812e",
   "metadata": {},
   "source": [
    "### 원소 제거\n",
    "---"
   ]
  },
  {
   "cell_type": "markdown",
   "id": "ffff62cd",
   "metadata": {},
   "source": [
    "#### remove"
   ]
  },
  {
   "cell_type": "code",
   "execution_count": 36,
   "id": "fb15faaa",
   "metadata": {},
   "outputs": [
    {
     "name": "stdout",
     "output_type": "stream",
     "text": [
      "remove(3) 결과 : [0, 1, 2, 4, 5]\n"
     ]
    }
   ],
   "source": [
    "temp_list = [0, 1, 2, 3, 4, 5]\n",
    "\n",
    "temp_list.remove(3)\n",
    "print(f'remove(3) 결과 : {temp_list}')"
   ]
  },
  {
   "cell_type": "markdown",
   "id": "932cb862",
   "metadata": {},
   "source": [
    "#### pop"
   ]
  },
  {
   "cell_type": "code",
   "execution_count": 41,
   "id": "26f3e0a7",
   "metadata": {},
   "outputs": [
    {
     "name": "stdout",
     "output_type": "stream",
     "text": [
      "pop() 결과 : [0, 1, 2, 3, 4]\n",
      "pop(0) 결과 : [1, 2, 3, 4]\n",
      "pop 메서드의 리턴 : 4\n"
     ]
    }
   ],
   "source": [
    "temp_list = [0, 1, 2, 3, 4, 5]\n",
    "\n",
    "temp_list.pop()\n",
    "print(f'pop() 결과 : {temp_list}')\n",
    "\n",
    "temp_list.pop(0)\n",
    "print(f'pop(0) 결과 : {temp_list}')\n",
    "\n",
    "print(f'pop 메서드의 리턴 : {temp_list.pop()}')"
   ]
  },
  {
   "cell_type": "markdown",
   "id": "bcabc988",
   "metadata": {},
   "source": [
    "### 초기화\n",
    "---"
   ]
  },
  {
   "cell_type": "markdown",
   "id": "8c764f5b",
   "metadata": {},
   "source": [
    "#### clear"
   ]
  },
  {
   "cell_type": "code",
   "execution_count": 43,
   "id": "bf0ab019",
   "metadata": {},
   "outputs": [
    {
     "name": "stdout",
     "output_type": "stream",
     "text": [
      "temp_list : []\n"
     ]
    }
   ],
   "source": [
    "temp_list = [0, 1, 2, 3, 4]\n",
    "\n",
    "temp_list.clear()\n",
    "print(f'temp_list : {temp_list}')"
   ]
  },
  {
   "cell_type": "markdown",
   "id": "2e14cc20",
   "metadata": {},
   "source": [
    "#### 재할당"
   ]
  },
  {
   "cell_type": "code",
   "execution_count": 44,
   "id": "1669221e",
   "metadata": {},
   "outputs": [
    {
     "name": "stdout",
     "output_type": "stream",
     "text": [
      "temp_list : []\n"
     ]
    }
   ],
   "source": [
    "temp_list = [0, 1, 2, 3, 4]\n",
    "\n",
    "temp_list = []\n",
    "print(f'temp_list : {temp_list}')"
   ]
  },
  {
   "cell_type": "markdown",
   "id": "9d478710",
   "metadata": {},
   "source": [
    "### 검색\n",
    "---"
   ]
  },
  {
   "cell_type": "markdown",
   "id": "58b15f2a",
   "metadata": {},
   "source": [
    "#### index"
   ]
  },
  {
   "cell_type": "code",
   "execution_count": 55,
   "id": "1cdc3bd6",
   "metadata": {
    "scrolled": true
   },
   "outputs": [
    {
     "name": "stdout",
     "output_type": "stream",
     "text": [
      "index(0) 결과 : 0\n",
      "index(0, 5, 13) 결과 : 12\n",
      "index(0, 5) 결과 : 12\n",
      "index([1, 1]) 결과 : 13\n"
     ]
    }
   ],
   "source": [
    "temp_list = [0, 1, 2, 3, 4, 5, 6, 5, 4, 3, 2, 1, 0, [1, 1]]\n",
    "\n",
    "print(f'index(0) 결과 : {temp_list.index(0)}')\n",
    "print(f'index(0, 5, 13) 결과 : {temp_list.index(0, 5, 13)}')\n",
    "print(f'index(0, 5) 결과 : {temp_list.index(0, 5)}')\n",
    "print(f'index([1, 1]) 결과 : {temp_list.index([1, 1])}')"
   ]
  },
  {
   "cell_type": "markdown",
   "id": "22295a5e",
   "metadata": {},
   "source": [
    "#### count"
   ]
  },
  {
   "cell_type": "code",
   "execution_count": 62,
   "id": "9b82baf7",
   "metadata": {},
   "outputs": [
    {
     "name": "stdout",
     "output_type": "stream",
     "text": [
      "count(1) 결과 : 1\n",
      "count(4) 결과 : 4\n",
      "count([1, 2]) 결과 : 2\n"
     ]
    }
   ],
   "source": [
    "temp_list = [1, 2, 2, 3, 3, 3, 4, 4, 4, 4, 5, [1, 2], [1, 2]]\n",
    "\n",
    "print(f'count(1) 결과 : {temp_list.count(1)}')\n",
    "print(f'count(4) 결과 : {temp_list.count(4)}')\n",
    "print(f'count([1, 2]) 결과 : {temp_list.count([1, 2])}')"
   ]
  },
  {
   "cell_type": "markdown",
   "id": "f21e5e56",
   "metadata": {},
   "source": [
    "https://www.acmicpc.net/problem/10807\n",
    "[![이미지설명(이미지 소스 URL)]](링크 URL) 와 같은 형식으로 입력합니다."
   ]
  },
  {
   "cell_type": "markdown",
   "id": "b30459c3",
   "metadata": {},
   "source": [
    "### 정렬\n",
    "---"
   ]
  },
  {
   "cell_type": "markdown",
   "id": "80b1a0e8",
   "metadata": {},
   "source": [
    "#### sort"
   ]
  },
  {
   "cell_type": "code",
   "execution_count": 84,
   "id": "fc601f6b",
   "metadata": {
    "scrolled": false
   },
   "outputs": [
    {
     "name": "stdout",
     "output_type": "stream",
     "text": [
      "temp_list : [54, 52, 1, 53, 99, 35, 78, 16, 36, 11, 46, 31, 5, 7, 88, 70, 9, 80, 24, 40]\n",
      "sort() 결과 : [1, 5, 7, 9, 11, 16, 24, 31, 35, 36, 40, 46, 52, 53, 54, 70, 78, 80, 88, 99]\n",
      "sort(reverse=True) 결과 : [99, 88, 80, 78, 70, 54, 53, 52, 46, 40, 36, 35, 31, 24, 16, 11, 9, 7, 5, 1]\n",
      "\n",
      "**** 응용 ****\n",
      "\n",
      "temp_list : [[23, 53], [33, 57], [41, 50], [43, 64], [37, 82]]\n",
      "sort(key=lambda x:x[0]) 결과 : [[23, 53], [33, 57], [37, 82], [41, 50], [43, 64]]\n",
      "sort(key=lambda x:x[1]) 결과 : [[41, 50], [23, 53], [33, 57], [43, 64], [37, 82]]\n",
      "sort(key=lambda x:x[0]+x[1]) 결과 : [[23, 53], [33, 57], [41, 50], [43, 64], [37, 82]]\n"
     ]
    }
   ],
   "source": [
    "from random import sample\n",
    "\n",
    "temp_list = sample(range(100), 20)\n",
    "print(f'temp_list : {temp_list}')\n",
    "\n",
    "temp_list.sort()\n",
    "print(f'sort() 결과 : {temp_list}')\n",
    "\n",
    "temp_list.sort(reverse=True)\n",
    "print(f'sort(reverse=True) 결과 : {temp_list}')\n",
    "\n",
    "print('\\n**** 응용 ****\\n')\n",
    "temp_list = [[i, j] for i, j in zip(sample(range(50), 5), sample(range(50, 100), 5))]\n",
    "print(f'temp_list : {temp_list}')\n",
    "\n",
    "temp_list.sort(key=lambda x:x[0])\n",
    "print(f'sort(key=lambda x:x[0]) 결과 : {temp_list}')\n",
    "\n",
    "temp_list.sort(key=lambda x:x[1])\n",
    "print(f'sort(key=lambda x:x[1]) 결과 : {temp_list}')\n",
    "\n",
    "temp_list.sort(key=lambda x:x[0]+x[1])\n",
    "print(f'sort(key=lambda x:x[0]+x[1]) 결과 : {temp_list}')"
   ]
  },
  {
   "cell_type": "markdown",
   "id": "2aff748a",
   "metadata": {},
   "source": [
    "#### sorted"
   ]
  },
  {
   "cell_type": "code",
   "execution_count": 88,
   "id": "dcfc0086",
   "metadata": {
    "scrolled": true
   },
   "outputs": [
    {
     "name": "stdout",
     "output_type": "stream",
     "text": [
      "temp_list : [9, 86, 83, 44, 40, 3, 90, 62, 64, 26, 42, 53, 88, 25, 54, 32, 27, 20, 79, 5]\n",
      "sorted() 결과 : [3, 5, 9, 20, 25, 26, 27, 32, 40, 42, 44, 53, 54, 62, 64, 79, 83, 86, 88, 90]\n",
      "sort(reverse=True) 결과 : [90, 88, 86, 83, 79, 64, 62, 54, 53, 44, 42, 40, 32, 27, 26, 25, 20, 9, 5, 3]\n"
     ]
    }
   ],
   "source": [
    "from random import sample\n",
    "\n",
    "temp_list = sample(range(100), 20)\n",
    "print(f'temp_list : {temp_list}')\n",
    "\n",
    "print(f'sorted() 결과 : {sorted(temp_list)}')\n",
    "\n",
    "print(f'sort(reverse=True) 결과 : {sorted(temp_list, reverse=True)}')"
   ]
  },
  {
   "cell_type": "markdown",
   "id": "8a4fa06c",
   "metadata": {},
   "source": [
    "#### reverse"
   ]
  },
  {
   "cell_type": "code",
   "execution_count": 102,
   "id": "71a66ff3",
   "metadata": {},
   "outputs": [
    {
     "name": "stdout",
     "output_type": "stream",
     "text": [
      "temp_list : [0, 1, 2, 3, 4, 5, 6, 7, 8, 9, 0, 1, 2, 3, 4]\n",
      "reverse() 결과 : [4, 3, 2, 1, 0, 9, 8, 7, 6, 5, 4, 3, 2, 1, 0]\n"
     ]
    }
   ],
   "source": [
    "temp_list = list(range(10)) + list(range(5))\n",
    "print(f'temp_list : {temp_list}')\n",
    "\n",
    "temp_list.reverse()\n",
    "print(f'reverse() 결과 : {temp_list}')"
   ]
  },
  {
   "cell_type": "markdown",
   "id": "5c568bfe",
   "metadata": {},
   "source": [
    "#### reversed"
   ]
  },
  {
   "cell_type": "code",
   "execution_count": 105,
   "id": "17a6e2c4",
   "metadata": {
    "scrolled": true
   },
   "outputs": [
    {
     "name": "stdout",
     "output_type": "stream",
     "text": [
      "temp_list : [0, 1, 2, 3, 4, 5, 6, 7, 8, 9, 0, 1, 2, 3, 4]\n",
      "reversed(temp_list) 결과 : <list_reverseiterator object at 0x000001A29EC2A500>\n",
      "iter -> list : [4, 3, 2, 1, 0, 9, 8, 7, 6, 5, 4, 3, 2, 1, 0]\n"
     ]
    }
   ],
   "source": [
    "temp_list = list(range(10)) + list(range(5))\n",
    "print(f'temp_list : {temp_list}')\n",
    "\n",
    "print(f'reversed(temp_list) 결과 : {reversed(temp_list)}')\n",
    "print(f'iter -> list : {list(reversed(temp_list))}')"
   ]
  }
 ],
 "metadata": {
  "kernelspec": {
   "display_name": "Python 3 (ipykernel)",
   "language": "python",
   "name": "python3"
  },
  "language_info": {
   "codemirror_mode": {
    "name": "ipython",
    "version": 3
   },
   "file_extension": ".py",
   "mimetype": "text/x-python",
   "name": "python",
   "nbconvert_exporter": "python",
   "pygments_lexer": "ipython3",
   "version": "3.11.3"
  }
 },
 "nbformat": 4,
 "nbformat_minor": 5
}
