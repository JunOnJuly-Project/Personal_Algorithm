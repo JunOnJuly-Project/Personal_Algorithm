{
 "cells": [
  {
   "cell_type": "markdown",
   "id": "4a26ddb0",
   "metadata": {},
   "source": [
    "# 알고리즘에 유용한 자료구조들"
   ]
  },
  {
   "cell_type": "markdown",
   "id": "64b02df7",
   "metadata": {},
   "source": [
    "# 리스트"
   ]
  },
  {
   "cell_type": "markdown",
   "id": "bb0c0b33",
   "metadata": {},
   "source": [
    "## 사용 이유\n",
    "---"
   ]
  },
  {
   "cell_type": "markdown",
   "id": "f9f5a1ff",
   "metadata": {},
   "source": [
    "* 다른 언어들에 비해 굉장히 편한 iterator\n",
    "* 가장 보편적으로 사용하는 iterator\n",
    "* 크기 지정 필요 없음\n",
    "* 자료형 지정 필요 없음\n",
    "* 다른 자료형 동시 사용 가능\n",
    "* 중첩 가능"
   ]
  },
  {
   "cell_type": "markdown",
   "id": "1581bbd9",
   "metadata": {},
   "source": [
    "## 생성 / 할당 방법\n",
    "---"
   ]
  },
  {
   "cell_type": "markdown",
   "id": "6ec01ac1",
   "metadata": {},
   "source": [
    "### 생성자\n",
    "---"
   ]
  },
  {
   "cell_type": "code",
   "execution_count": 2,
   "id": "fa6bb20a",
   "metadata": {},
   "outputs": [
    {
     "name": "stdout",
     "output_type": "stream",
     "text": [
      "list_1 : []\n",
      "list_2 : [1, 2, 3, '알고리즘', '에']\n",
      "list_3 : [['유용한'], '자료구조들']\n",
      "list_4 : []\n",
      "list_5 : [['유용한'], '자료구조들']\n",
      "list_6 : [0, 1, 2, 3, 4, 5, 6, 7, 8, 9]\n",
      "list_7 : [5, 6, 7, 8, 9]\n"
     ]
    }
   ],
   "source": [
    "list_1 = []\n",
    "list_2 = [1, 2, 3, '알고리즘', '에']\n",
    "list_3 = [['유용한'], '자료구조들']\n",
    "list_4 = list()\n",
    "list_5 = list(list_3)\n",
    "list_6 = list(range(10))\n",
    "list_7 = list(range(5, 10))\n",
    "\n",
    "print(f'list_1 : {list_1}')\n",
    "print(f'list_2 : {list_2}')\n",
    "print(f'list_3 : {list_3}')\n",
    "print(f'list_4 : {list_4}')\n",
    "print(f'list_5 : {list_5}')\n",
    "print(f'list_6 : {list_6}')\n",
    "print(f'list_7 : {list_7}')"
   ]
  },
  {
   "cell_type": "markdown",
   "id": "806f3ccc",
   "metadata": {},
   "source": [
    "### 지능형 리스트\n",
    "---"
   ]
  },
  {
   "cell_type": "code",
   "execution_count": null,
   "id": "ac8fea23",
   "metadata": {
    "scrolled": true
   },
   "outputs": [],
   "source": [
    "list_1 = [0 for i in range(10)]\n",
    "list_2 = [i for i in range(10)]\n",
    "list_3 = [[i, j] for i in range(2) for j in range(5)]\n",
    "# == (순서)\n",
    "# for i in range(2):\n",
    "#     for j in range(5):\n",
    "#         [i, j]\n",
    "list_4 = [i+j for i in range(2) for j in range(5)]\n",
    "list_5 = [[[i, j] for i in range(2)] for j in range(5)]\n",
    "# == (순서)\n",
    "# for j in range(5):\n",
    "#     for i in range(2):\n",
    "#         [i, j]\n",
    "\n",
    "print(f'list_1 : {list_1}')\n",
    "print(f'list_2 : {list_2}')\n",
    "print(f'list_3 : {list_3}')\n",
    "print(f'list_4 : {list_4}')\n",
    "print(f'list_5 : {list_5}')"
   ]
  },
  {
   "cell_type": "markdown",
   "id": "4bd6f320",
   "metadata": {},
   "source": [
    "## 메서드\n",
    "---"
   ]
  },
  {
   "cell_type": "markdown",
   "id": "0adeb405",
   "metadata": {},
   "source": [
    "### 원소 추가\n",
    "---"
   ]
  },
  {
   "cell_type": "markdown",
   "id": "9210233b",
   "metadata": {},
   "source": [
    "#### append"
   ]
  },
  {
   "cell_type": "code",
   "execution_count": null,
   "id": "b5ca6550",
   "metadata": {
    "scrolled": true
   },
   "outputs": [],
   "source": [
    "temp_list = []\n",
    "temp_list_copy = temp_list\n",
    "\n",
    "temp_list.append(1)\n",
    "print(f'append(1) 결과 : {temp_list}')\n",
    "\n",
    "temp_list.append([2, 3])\n",
    "print(f'append([2, 3]) 결과 : {temp_list}')\n",
    "\n",
    "temp_list[1].append([4])\n",
    "print(f'temp_list[1].append([4]) 결과 : {temp_list}')\n",
    "\n",
    "print(f'뜬금없이 안건드린 temp_list_copy : {temp_list_copy}')"
   ]
  },
  {
   "cell_type": "markdown",
   "id": "30976f3b",
   "metadata": {},
   "source": [
    "#### extend"
   ]
  },
  {
   "cell_type": "code",
   "execution_count": 8,
   "id": "5cfc3aaf",
   "metadata": {
    "scrolled": true
   },
   "outputs": [
    {
     "name": "stdout",
     "output_type": "stream",
     "text": [
      "extend([1, 2]) 결과 : [1, 2]\n",
      "extend([3, 4]) 결과 : [1, 2, 3, 4]\n",
      "extend([[5, 6]]) 결과 : [1, 2, 3, 4, [5, 6]]\n",
      "extend(set([1, 2, 3])) 결과 : [1, 2, 3, 4, [5, 6], 1, 2, 3]\n"
     ]
    }
   ],
   "source": [
    "temp_list = []\n",
    "\n",
    "temp_list.extend([1, 2])\n",
    "print(f'extend([1, 2]) 결과 : {temp_list}')\n",
    "\n",
    "temp_list.extend([3, 4])\n",
    "print(f'extend([3, 4]) 결과 : {temp_list}')\n",
    "\n",
    "temp_list.extend([[5, 6]])\n",
    "print(f'extend([[5, 6]]) 결과 : {temp_list}')\n",
    "\n",
    "temp_list.extend(set([1, 2, 3]))\n",
    "print(f'extend(set([1, 2, 3])) 결과 : {temp_list}')"
   ]
  },
  {
   "cell_type": "code",
   "execution_count": 5,
   "id": "917384f5",
   "metadata": {},
   "outputs": [
    {
     "ename": "TypeError",
     "evalue": "'int' object is not iterable",
     "output_type": "error",
     "traceback": [
      "\u001b[1;31m---------------------------------------------------------------------------\u001b[0m",
      "\u001b[1;31mTypeError\u001b[0m                                 Traceback (most recent call last)",
      "Cell \u001b[1;32mIn[5], line 1\u001b[0m\n\u001b[1;32m----> 1\u001b[0m \u001b[43mtemp_list\u001b[49m\u001b[38;5;241;43m.\u001b[39;49m\u001b[43mextend\u001b[49m\u001b[43m(\u001b[49m\u001b[38;5;241;43m1\u001b[39;49m\u001b[43m)\u001b[49m\n",
      "\u001b[1;31mTypeError\u001b[0m: 'int' object is not iterable"
     ]
    }
   ],
   "source": [
    "temp_list.extend(1)"
   ]
  },
  {
   "cell_type": "markdown",
   "id": "541adf50",
   "metadata": {},
   "source": [
    "#### insert"
   ]
  },
  {
   "cell_type": "code",
   "execution_count": null,
   "id": "540f8ba0",
   "metadata": {
    "scrolled": true
   },
   "outputs": [],
   "source": [
    "temp_list = [0, 1, 2, 3, 4, 5]\n",
    "\n",
    "temp_list.insert(2, 6)\n",
    "print(f'insert(2, 6) 결과 : {temp_list}')\n",
    "\n",
    "temp_list.insert(4, [7, 8])\n",
    "print(f'insert(2, [7, 8]) 결과 : {temp_list}')"
   ]
  },
  {
   "cell_type": "markdown",
   "id": "7107b580",
   "metadata": {},
   "source": [
    "#### +"
   ]
  },
  {
   "cell_type": "code",
   "execution_count": null,
   "id": "8983ea23",
   "metadata": {},
   "outputs": [],
   "source": [
    "temp_list = [0, 1, 2, 3, 4, 5]\n",
    "\n",
    "temp_list = temp_list + [6]\n",
    "print(f'+ [6] 결과 : {temp_list}')\n",
    "\n",
    "temp_list = temp_list + [[6]]\n",
    "print(f'+ [[6]] 결과 : {temp_list}')"
   ]
  },
  {
   "cell_type": "markdown",
   "id": "7a7e4e6e",
   "metadata": {},
   "source": [
    "### 원소 제거\n",
    "---"
   ]
  },
  {
   "cell_type": "markdown",
   "id": "b03bdf27",
   "metadata": {},
   "source": [
    "#### remove"
   ]
  },
  {
   "cell_type": "code",
   "execution_count": 10,
   "id": "368e7455",
   "metadata": {},
   "outputs": [
    {
     "name": "stdout",
     "output_type": "stream",
     "text": [
      "remove(3) 결과 : [0, 1, 2, 4, 5]\n"
     ]
    }
   ],
   "source": [
    "temp_list = [0, 1, 2, 3, 4, 5]\n",
    "\n",
    "temp_list.remove(3)\n",
    "print(f'remove(3) 결과 : {temp_list}')"
   ]
  },
  {
   "cell_type": "code",
   "execution_count": 11,
   "id": "61759654",
   "metadata": {},
   "outputs": [
    {
     "ename": "ValueError",
     "evalue": "list.remove(x): x not in list",
     "output_type": "error",
     "traceback": [
      "\u001b[1;31m---------------------------------------------------------------------------\u001b[0m",
      "\u001b[1;31mValueError\u001b[0m                                Traceback (most recent call last)",
      "Cell \u001b[1;32mIn[11], line 1\u001b[0m\n\u001b[1;32m----> 1\u001b[0m \u001b[43mtemp_list\u001b[49m\u001b[38;5;241;43m.\u001b[39;49m\u001b[43mremove\u001b[49m\u001b[43m(\u001b[49m\u001b[38;5;241;43m7\u001b[39;49m\u001b[43m)\u001b[49m\n",
      "\u001b[1;31mValueError\u001b[0m: list.remove(x): x not in list"
     ]
    }
   ],
   "source": [
    "temp_list.remove(7)"
   ]
  },
  {
   "cell_type": "markdown",
   "id": "25e17a20",
   "metadata": {},
   "source": [
    "#### pop"
   ]
  },
  {
   "cell_type": "code",
   "execution_count": 14,
   "id": "17342708",
   "metadata": {},
   "outputs": [
    {
     "name": "stdout",
     "output_type": "stream",
     "text": [
      "pop() 결과 : [0, 1]\n",
      "pop(0) 결과 : [1]\n",
      "pop 메서드의 리턴 : 1\n"
     ]
    }
   ],
   "source": [
    "temp_list = [0, 1, 2]\n",
    "\n",
    "temp_list.pop()\n",
    "print(f'pop() 결과 : {temp_list}')\n",
    "\n",
    "temp_list.pop(0)\n",
    "print(f'pop(0) 결과 : {temp_list}')\n",
    "\n",
    "print(f'pop 메서드의 리턴 : {temp_list.pop()}')"
   ]
  },
  {
   "cell_type": "code",
   "execution_count": 15,
   "id": "834506b1",
   "metadata": {},
   "outputs": [
    {
     "ename": "IndexError",
     "evalue": "pop from empty list",
     "output_type": "error",
     "traceback": [
      "\u001b[1;31m---------------------------------------------------------------------------\u001b[0m",
      "\u001b[1;31mIndexError\u001b[0m                                Traceback (most recent call last)",
      "Cell \u001b[1;32mIn[15], line 1\u001b[0m\n\u001b[1;32m----> 1\u001b[0m \u001b[43mtemp_list\u001b[49m\u001b[38;5;241;43m.\u001b[39;49m\u001b[43mpop\u001b[49m\u001b[43m(\u001b[49m\u001b[43m)\u001b[49m\n",
      "\u001b[1;31mIndexError\u001b[0m: pop from empty list"
     ]
    }
   ],
   "source": [
    "temp_list.pop()"
   ]
  },
  {
   "cell_type": "markdown",
   "id": "8f45e641",
   "metadata": {},
   "source": [
    "### 초기화\n",
    "---"
   ]
  },
  {
   "cell_type": "markdown",
   "id": "878b995d",
   "metadata": {},
   "source": [
    "#### clear"
   ]
  },
  {
   "cell_type": "code",
   "execution_count": null,
   "id": "fef99878",
   "metadata": {},
   "outputs": [],
   "source": [
    "temp_list = [0, 1, 2, 3, 4]\n",
    "\n",
    "temp_list.clear()\n",
    "print(f'temp_list : {temp_list}')"
   ]
  },
  {
   "cell_type": "markdown",
   "id": "5b7ab439",
   "metadata": {},
   "source": [
    "#### 재할당"
   ]
  },
  {
   "cell_type": "code",
   "execution_count": null,
   "id": "74540712",
   "metadata": {},
   "outputs": [],
   "source": [
    "temp_list = [0, 1, 2, 3, 4]\n",
    "\n",
    "temp_list = []\n",
    "print(f'temp_list : {temp_list}')"
   ]
  },
  {
   "cell_type": "markdown",
   "id": "a0497394",
   "metadata": {},
   "source": [
    "### 검색\n",
    "---"
   ]
  },
  {
   "cell_type": "markdown",
   "id": "2de7a2a1",
   "metadata": {},
   "source": [
    "#### in"
   ]
  },
  {
   "cell_type": "code",
   "execution_count": null,
   "id": "e42ad4af",
   "metadata": {},
   "outputs": [],
   "source": [
    "temp_list = [0, 1, 2, 3, 4, 5, 6]\n",
    "\n",
    "print(f'1 in 결과 : {1 in temp_list}')\n",
    "print(f'7 in 결과 : {7 in temp_list}')"
   ]
  },
  {
   "cell_type": "markdown",
   "id": "c922682c",
   "metadata": {},
   "source": [
    "#### index"
   ]
  },
  {
   "cell_type": "code",
   "execution_count": 16,
   "id": "fa940d66",
   "metadata": {
    "scrolled": true
   },
   "outputs": [
    {
     "name": "stdout",
     "output_type": "stream",
     "text": [
      "index(0) 결과 : 0\n",
      "index(0, 5, 13) 결과 : 12\n",
      "index(0, 5) 결과 : 12\n",
      "index([1, 1]) 결과 : 13\n"
     ]
    }
   ],
   "source": [
    "temp_list = [0, 1, 2, 3, 4, 5, 6, 5, 4, 3, 2, 1, 0, [1, 1]]\n",
    "\n",
    "print(f'index(0) 결과 : {temp_list.index(0)}')\n",
    "print(f'index(0, 5, 13) 결과 : {temp_list.index(0, 5, 13)}')\n",
    "print(f'index(0, 5) 결과 : {temp_list.index(0, 5)}')\n",
    "print(f'index([1, 1]) 결과 : {temp_list.index([1, 1])}')"
   ]
  },
  {
   "cell_type": "code",
   "execution_count": 17,
   "id": "ddadde35",
   "metadata": {},
   "outputs": [
    {
     "ename": "ValueError",
     "evalue": "9 is not in list",
     "output_type": "error",
     "traceback": [
      "\u001b[1;31m---------------------------------------------------------------------------\u001b[0m",
      "\u001b[1;31mValueError\u001b[0m                                Traceback (most recent call last)",
      "Cell \u001b[1;32mIn[17], line 1\u001b[0m\n\u001b[1;32m----> 1\u001b[0m \u001b[38;5;28mprint\u001b[39m(\u001b[38;5;124mf\u001b[39m\u001b[38;5;124m'\u001b[39m\u001b[38;5;124mindex(9) 결과 : \u001b[39m\u001b[38;5;132;01m{\u001b[39;00m\u001b[43mtemp_list\u001b[49m\u001b[38;5;241;43m.\u001b[39;49m\u001b[43mindex\u001b[49m\u001b[43m(\u001b[49m\u001b[38;5;241;43m9\u001b[39;49m\u001b[43m)\u001b[49m\u001b[38;5;132;01m}\u001b[39;00m\u001b[38;5;124m'\u001b[39m)\n",
      "\u001b[1;31mValueError\u001b[0m: 9 is not in list"
     ]
    }
   ],
   "source": [
    "print(f'index(9) 결과 : {temp_list.index(9)}')"
   ]
  },
  {
   "cell_type": "markdown",
   "id": "1cbd85a3",
   "metadata": {},
   "source": [
    "#### count"
   ]
  },
  {
   "cell_type": "code",
   "execution_count": null,
   "id": "2c8099cd",
   "metadata": {
    "scrolled": true
   },
   "outputs": [],
   "source": [
    "temp_list = [1, 2, 2, 3, 3, 3, 4, 4, 4, 4, 5, [1, 2], [1, 2]]\n",
    "\n",
    "print(f'count(1) 결과 : {temp_list.count(1)}')\n",
    "print(f'count(4) 결과 : {temp_list.count(4)}')\n",
    "print(f'count([1, 2]) 결과 : {temp_list.count([1, 2])}')"
   ]
  },
  {
   "cell_type": "markdown",
   "id": "011176f4",
   "metadata": {},
   "source": [
    "#### 인덱싱"
   ]
  },
  {
   "cell_type": "code",
   "execution_count": null,
   "id": "05c793a1",
   "metadata": {},
   "outputs": [],
   "source": [
    "temp_list = [1, 2, 2, 3, 3, 3, 4, 4, 4, 4, 5, [1, 2], [1, 2]]\n",
    "\n",
    "print(f'[3] 결과 : {temp_list[3]}')\n",
    "print(f'[-1] 결과 : {temp_list[-1]}')"
   ]
  },
  {
   "cell_type": "markdown",
   "id": "6f745d3c",
   "metadata": {},
   "source": [
    "#### 슬라이싱"
   ]
  },
  {
   "cell_type": "code",
   "execution_count": null,
   "id": "6c0fa81b",
   "metadata": {},
   "outputs": [],
   "source": [
    "temp_list = [1, 2, 2, 3, 3, 3, 4, 4, 4, 4, 5, [1, 2], [1, 2]]\n",
    "\n",
    "print(f'[3:5] 결과 : {temp_list[3:5]}')\n",
    "print(f'[:5] 결과 : {temp_list[:5]}')\n",
    "print(f'[3:] 결과 : {temp_list[3:]}')\n",
    "print(f'[:] 결과 : {temp_list[:]}')\n",
    "print(f'[3:5] 결과 : {temp_list[3:5]}')\n"
   ]
  },
  {
   "cell_type": "markdown",
   "id": "9eed9aa6",
   "metadata": {},
   "source": [
    "### 정렬\n",
    "---"
   ]
  },
  {
   "cell_type": "markdown",
   "id": "2d622ff1",
   "metadata": {},
   "source": [
    "#### sort"
   ]
  },
  {
   "cell_type": "code",
   "execution_count": null,
   "id": "49f46d1a",
   "metadata": {
    "scrolled": false
   },
   "outputs": [],
   "source": [
    "from random import sample\n",
    "\n",
    "temp_list = sample(range(100), 20)\n",
    "print(f'temp_list : {temp_list}')\n",
    "\n",
    "temp_list.sort()\n",
    "print(f'sort() 결과 : {temp_list}')\n",
    "\n",
    "temp_list.sort(reverse=True)\n",
    "print(f'sort(reverse=True) 결과 : {temp_list}')\n",
    "\n",
    "print('\\n**** 응용 ****\\n')\n",
    "temp_list = [[i, j] for i, j in zip(sample(range(50), 5), sample(range(50, 100), 5))]\n",
    "print(f'temp_list : {temp_list}')\n",
    "\n",
    "temp_list.sort(key=lambda x:x[0])\n",
    "print(f'sort(key=lambda x:x[0]) 결과 : {temp_list}')\n",
    "\n",
    "temp_list.sort(key=lambda x:x[1])\n",
    "print(f'sort(key=lambda x:x[1]) 결과 : {temp_list}')\n",
    "\n",
    "temp_list.sort(key=lambda x:x[0]+x[1])\n",
    "print(f'sort(key=lambda x:x[0]+x[1]) 결과 : {temp_list}')"
   ]
  },
  {
   "cell_type": "markdown",
   "id": "34a8ec36",
   "metadata": {},
   "source": [
    "#### sorted ( 메서드는 아니지만 비슷한 내장 함수)"
   ]
  },
  {
   "cell_type": "code",
   "execution_count": null,
   "id": "782721c7",
   "metadata": {
    "scrolled": true
   },
   "outputs": [],
   "source": [
    "from random import sample\n",
    "\n",
    "temp_list = sample(range(100), 20)\n",
    "print(f'temp_list : {temp_list}')\n",
    "\n",
    "print(f'sorted() 결과 : {sorted(temp_list)}')\n",
    "\n",
    "print(f'sort(reverse=True) 결과 : {sorted(temp_list, reverse=True)}')"
   ]
  },
  {
   "cell_type": "markdown",
   "id": "374fe3a4",
   "metadata": {},
   "source": [
    "#### reverse"
   ]
  },
  {
   "cell_type": "code",
   "execution_count": null,
   "id": "819e0cc8",
   "metadata": {},
   "outputs": [],
   "source": [
    "temp_list = list(range(10)) + list(range(5))\n",
    "print(f'temp_list : {temp_list}')\n",
    "\n",
    "temp_list.reverse()\n",
    "print(f'reverse() 결과 : {temp_list}')"
   ]
  },
  {
   "cell_type": "markdown",
   "id": "38d8c0b0",
   "metadata": {},
   "source": [
    "#### reversed ( 메서드는 아니지만 비슷한 내장 함수)"
   ]
  },
  {
   "cell_type": "code",
   "execution_count": null,
   "id": "fe0ea1f4",
   "metadata": {
    "scrolled": true
   },
   "outputs": [],
   "source": [
    "temp_list = list(range(10)) + list(range(5))\n",
    "print(f'temp_list : {temp_list}')\n",
    "\n",
    "print(f'reversed(temp_list) 결과 : {reversed(temp_list)}')\n",
    "print(f'iter -> list : {list(reversed(temp_list))}')"
   ]
  }
 ],
 "metadata": {
  "kernelspec": {
   "display_name": "Python 3 (ipykernel)",
   "language": "python",
   "name": "python3"
  },
  "language_info": {
   "codemirror_mode": {
    "name": "ipython",
    "version": 3
   },
   "file_extension": ".py",
   "mimetype": "text/x-python",
   "name": "python",
   "nbconvert_exporter": "python",
   "pygments_lexer": "ipython3",
   "version": "3.11.4"
  }
 },
 "nbformat": 4,
 "nbformat_minor": 5
}
