{
 "cells": [
  {
   "cell_type": "markdown",
   "id": "4a26ddb0",
   "metadata": {},
   "source": [
    "# 알고리즘에 유용한 자료구조들"
   ]
  },
  {
   "cell_type": "markdown",
   "id": "64b02df7",
   "metadata": {},
   "source": [
    "# 리스트"
   ]
  },
  {
   "cell_type": "markdown",
   "id": "bb0c0b33",
   "metadata": {},
   "source": [
    "## 사용 이유\n",
    "---"
   ]
  },
  {
   "cell_type": "markdown",
   "id": "f9f5a1ff",
   "metadata": {},
   "source": [
    "* 다른 언어들에 비해 굉장히 편한 iterator\n",
    "* 가장 보편적으로 사용하는 iterator\n",
    "* 크기 지정 필요 없음\n",
    "* 자료형 지정 필요 없음\n",
    "* 다른 자료형 동시 사용 가능\n",
    "* 중첩 가능"
   ]
  },
  {
   "cell_type": "markdown",
   "id": "1581bbd9",
   "metadata": {},
   "source": [
    "## 할당 방법\n",
    "---"
   ]
  },
  {
   "cell_type": "markdown",
   "id": "6ec01ac1",
   "metadata": {},
   "source": [
    "### 생성자\n",
    "---"
   ]
  },
  {
   "cell_type": "code",
   "execution_count": 1,
   "id": "fa6bb20a",
   "metadata": {},
   "outputs": [
    {
     "name": "stdout",
     "output_type": "stream",
     "text": [
      "list_1 : []\n",
      "list_2 : [1, 2, 3, '알고리즘', '에']\n",
      "list_3 : [['유용한'], '자료구조들']\n",
      "list_4 : []\n",
      "list_5 : [['유용한'], '자료구조들']\n",
      "list_6 : [0, 1, 2, 3, 4, 5, 6, 7, 8, 9]\n",
      "list_7 : [5, 6, 7, 8, 9]\n"
     ]
    }
   ],
   "source": [
    "list_1 = []\n",
    "list_2 = [1, 2, 3, '알고리즘', '에']\n",
    "list_3 = [['유용한'], '자료구조들']\n",
    "list_4 = list()\n",
    "list_5 = list(list_3)\n",
    "list_6 = list(range(10))\n",
    "list_7 = list(range(5, 10))\n",
    "\n",
    "print(f'list_1 : {list_1}')\n",
    "print(f'list_2 : {list_2}')\n",
    "print(f'list_3 : {list_3}')\n",
    "print(f'list_4 : {list_4}')\n",
    "print(f'list_5 : {list_5}')\n",
    "print(f'list_6 : {list_6}')\n",
    "print(f'list_7 : {list_7}')"
   ]
  },
  {
   "cell_type": "markdown",
   "id": "806f3ccc",
   "metadata": {},
   "source": [
    "### 지능형 리스트\n",
    "---"
   ]
  },
  {
   "cell_type": "code",
   "execution_count": 2,
   "id": "ac8fea23",
   "metadata": {
    "scrolled": true
   },
   "outputs": [
    {
     "name": "stdout",
     "output_type": "stream",
     "text": [
      "list_1 : [0, 0, 0, 0, 0, 0, 0, 0, 0, 0]\n",
      "list_2 : [0, 1, 2, 3, 4, 5, 6, 7, 8, 9]\n",
      "list_3 : [[0, 0], [0, 1], [0, 2], [0, 3], [0, 4], [1, 0], [1, 1], [1, 2], [1, 3], [1, 4]]\n",
      "list_4 : [0, 1, 2, 3, 4, 1, 2, 3, 4, 5]\n",
      "list_5 : [[[0, 0], [1, 0]], [[0, 1], [1, 1]], [[0, 2], [1, 2]], [[0, 3], [1, 3]], [[0, 4], [1, 4]]]\n"
     ]
    }
   ],
   "source": [
    "list_1 = [0 for i in range(10)]\n",
    "list_2 = [i for i in range(10)]\n",
    "list_3 = [[i, j] for i in range(2) for j in range(5)]\n",
    "# == (순서)\n",
    "# for i in range(2):\n",
    "#     for j in range(5):\n",
    "#         [i, j]\n",
    "list_4 = [i+j for i in range(2) for j in range(5)]\n",
    "list_5 = [[[i, j] for i in range(2)] for j in range(5)]\n",
    "# == (순서)\n",
    "# for j in range(5):\n",
    "#     for i in range(2):\n",
    "#         [i, j]\n",
    "\n",
    "print(f'list_1 : {list_1}')\n",
    "print(f'list_2 : {list_2}')\n",
    "print(f'list_3 : {list_3}')\n",
    "print(f'list_4 : {list_4}')\n",
    "print(f'list_5 : {list_5}')"
   ]
  },
  {
   "cell_type": "markdown",
   "id": "4bd6f320",
   "metadata": {},
   "source": [
    "## 메서드\n",
    "---"
   ]
  },
  {
   "cell_type": "markdown",
   "id": "0adeb405",
   "metadata": {},
   "source": [
    "### 원소 추가\n",
    "---"
   ]
  },
  {
   "cell_type": "markdown",
   "id": "9210233b",
   "metadata": {},
   "source": [
    "#### append"
   ]
  },
  {
   "cell_type": "code",
   "execution_count": 3,
   "id": "b5ca6550",
   "metadata": {
    "scrolled": true
   },
   "outputs": [
    {
     "name": "stdout",
     "output_type": "stream",
     "text": [
      "append(1) 결과 : [1]\n",
      "append([2, 3]) 결과 : [1, [2, 3]]\n",
      "temp_list[1].append([4]) 결과 : [1, [2, 3, [4]]]\n",
      "뜬금없이 안건드린 temp_list_copy : [1, [2, 3, [4]]]\n"
     ]
    }
   ],
   "source": [
    "temp_list = []\n",
    "temp_list_copy = temp_list\n",
    "\n",
    "temp_list.append(1)\n",
    "print(f'append(1) 결과 : {temp_list}')\n",
    "\n",
    "temp_list.append([2, 3])\n",
    "print(f'append([2, 3]) 결과 : {temp_list}')\n",
    "\n",
    "temp_list[1].append([4])\n",
    "print(f'temp_list[1].append([4]) 결과 : {temp_list}')\n",
    "\n",
    "print(f'뜬금없이 안건드린 temp_list_copy : {temp_list_copy}')"
   ]
  },
  {
   "cell_type": "markdown",
   "id": "30976f3b",
   "metadata": {},
   "source": [
    "#### extend"
   ]
  },
  {
   "cell_type": "code",
   "execution_count": 4,
   "id": "5cfc3aaf",
   "metadata": {
    "scrolled": true
   },
   "outputs": [
    {
     "name": "stdout",
     "output_type": "stream",
     "text": [
      "extend([1, 2]) 결과 : [1, 2]\n",
      "extend([3, 4]) 결과 : [1, 2, 3, 4]\n",
      "extend([[5, 6]]) 결과 : [1, 2, 3, 4, [5, 6]]\n"
     ]
    }
   ],
   "source": [
    "temp_list = []\n",
    "\n",
    "temp_list.extend([1, 2])\n",
    "print(f'extend([1, 2]) 결과 : {temp_list}')\n",
    "\n",
    "temp_list.extend([3, 4])\n",
    "print(f'extend([3, 4]) 결과 : {temp_list}')\n",
    "\n",
    "temp_list.extend([[5, 6]])\n",
    "print(f'extend([[5, 6]]) 결과 : {temp_list}')"
   ]
  },
  {
   "cell_type": "markdown",
   "id": "541adf50",
   "metadata": {},
   "source": [
    "#### insert"
   ]
  },
  {
   "cell_type": "code",
   "execution_count": 5,
   "id": "540f8ba0",
   "metadata": {
    "scrolled": true
   },
   "outputs": [
    {
     "name": "stdout",
     "output_type": "stream",
     "text": [
      "insert(2, 6) 결과 : [0, 1, 6, 2, 3, 4, 5]\n",
      "insert(2, [7, 8]) 결과 : [0, 1, 6, 2, [7, 8], 3, 4, 5]\n"
     ]
    }
   ],
   "source": [
    "temp_list = [0, 1, 2, 3, 4, 5]\n",
    "\n",
    "temp_list.insert(2, 6)\n",
    "print(f'insert(2, 6) 결과 : {temp_list}')\n",
    "\n",
    "temp_list.insert(4, [7, 8])\n",
    "print(f'insert(2, [7, 8]) 결과 : {temp_list}')"
   ]
  },
  {
   "cell_type": "markdown",
   "id": "7107b580",
   "metadata": {},
   "source": [
    "#### +"
   ]
  },
  {
   "cell_type": "code",
   "execution_count": 6,
   "id": "8983ea23",
   "metadata": {},
   "outputs": [
    {
     "name": "stdout",
     "output_type": "stream",
     "text": [
      "+ [6] 결과 : [0, 1, 2, 3, 4, 5, 6]\n",
      "+ [[6]] 결과 : [0, 1, 2, 3, 4, 5, 6, [6]]\n"
     ]
    }
   ],
   "source": [
    "temp_list = [0, 1, 2, 3, 4, 5]\n",
    "\n",
    "temp_list = temp_list + [6]\n",
    "print(f'+ [6] 결과 : {temp_list}')\n",
    "\n",
    "temp_list = temp_list + [[6]]\n",
    "print(f'+ [[6]] 결과 : {temp_list}')"
   ]
  },
  {
   "cell_type": "markdown",
   "id": "7a7e4e6e",
   "metadata": {},
   "source": [
    "### 원소 제거\n",
    "---"
   ]
  },
  {
   "cell_type": "markdown",
   "id": "b03bdf27",
   "metadata": {},
   "source": [
    "#### remove"
   ]
  },
  {
   "cell_type": "code",
   "execution_count": 7,
   "id": "368e7455",
   "metadata": {},
   "outputs": [
    {
     "name": "stdout",
     "output_type": "stream",
     "text": [
      "remove(3) 결과 : [0, 1, 2, 4, 5]\n"
     ]
    }
   ],
   "source": [
    "temp_list = [0, 1, 2, 3, 4, 5]\n",
    "\n",
    "temp_list.remove(3)\n",
    "print(f'remove(3) 결과 : {temp_list}')"
   ]
  },
  {
   "cell_type": "markdown",
   "id": "25e17a20",
   "metadata": {},
   "source": [
    "#### pop"
   ]
  },
  {
   "cell_type": "code",
   "execution_count": 8,
   "id": "17342708",
   "metadata": {},
   "outputs": [
    {
     "name": "stdout",
     "output_type": "stream",
     "text": [
      "pop() 결과 : [0, 1, 2, 3, 4]\n",
      "pop(0) 결과 : [1, 2, 3, 4]\n",
      "pop 메서드의 리턴 : 4\n"
     ]
    }
   ],
   "source": [
    "temp_list = [0, 1, 2, 3, 4, 5]\n",
    "\n",
    "temp_list.pop()\n",
    "print(f'pop() 결과 : {temp_list}')\n",
    "\n",
    "temp_list.pop(0)\n",
    "print(f'pop(0) 결과 : {temp_list}')\n",
    "\n",
    "print(f'pop 메서드의 리턴 : {temp_list.pop()}')"
   ]
  },
  {
   "cell_type": "markdown",
   "id": "8f45e641",
   "metadata": {},
   "source": [
    "### 초기화\n",
    "---"
   ]
  },
  {
   "cell_type": "markdown",
   "id": "878b995d",
   "metadata": {},
   "source": [
    "#### clear"
   ]
  },
  {
   "cell_type": "code",
   "execution_count": 9,
   "id": "fef99878",
   "metadata": {},
   "outputs": [
    {
     "name": "stdout",
     "output_type": "stream",
     "text": [
      "temp_list : []\n"
     ]
    }
   ],
   "source": [
    "temp_list = [0, 1, 2, 3, 4]\n",
    "\n",
    "temp_list.clear()\n",
    "print(f'temp_list : {temp_list}')"
   ]
  },
  {
   "cell_type": "markdown",
   "id": "5b7ab439",
   "metadata": {},
   "source": [
    "#### 재할당"
   ]
  },
  {
   "cell_type": "code",
   "execution_count": 10,
   "id": "74540712",
   "metadata": {},
   "outputs": [
    {
     "name": "stdout",
     "output_type": "stream",
     "text": [
      "temp_list : []\n"
     ]
    }
   ],
   "source": [
    "temp_list = [0, 1, 2, 3, 4]\n",
    "\n",
    "temp_list = []\n",
    "print(f'temp_list : {temp_list}')"
   ]
  },
  {
   "cell_type": "markdown",
   "id": "a0497394",
   "metadata": {},
   "source": [
    "### 검색\n",
    "---"
   ]
  },
  {
   "cell_type": "markdown",
   "id": "c922682c",
   "metadata": {},
   "source": [
    "#### index"
   ]
  },
  {
   "cell_type": "code",
   "execution_count": 11,
   "id": "fa940d66",
   "metadata": {
    "scrolled": true
   },
   "outputs": [
    {
     "name": "stdout",
     "output_type": "stream",
     "text": [
      "index(0) 결과 : 0\n",
      "index(0, 5, 13) 결과 : 12\n",
      "index(0, 5) 결과 : 12\n",
      "index([1, 1]) 결과 : 13\n"
     ]
    }
   ],
   "source": [
    "temp_list = [0, 1, 2, 3, 4, 5, 6, 5, 4, 3, 2, 1, 0, [1, 1]]\n",
    "\n",
    "print(f'index(0) 결과 : {temp_list.index(0)}')\n",
    "print(f'index(0, 5, 13) 결과 : {temp_list.index(0, 5, 13)}')\n",
    "print(f'index(0, 5) 결과 : {temp_list.index(0, 5)}')\n",
    "print(f'index([1, 1]) 결과 : {temp_list.index([1, 1])}')"
   ]
  },
  {
   "cell_type": "markdown",
   "id": "1cbd85a3",
   "metadata": {},
   "source": [
    "#### count"
   ]
  },
  {
   "cell_type": "code",
   "execution_count": 12,
   "id": "2c8099cd",
   "metadata": {
    "scrolled": true
   },
   "outputs": [
    {
     "name": "stdout",
     "output_type": "stream",
     "text": [
      "count(1) 결과 : 1\n",
      "count(4) 결과 : 4\n",
      "count([1, 2]) 결과 : 2\n"
     ]
    }
   ],
   "source": [
    "temp_list = [1, 2, 2, 3, 3, 3, 4, 4, 4, 4, 5, [1, 2], [1, 2]]\n",
    "\n",
    "print(f'count(1) 결과 : {temp_list.count(1)}')\n",
    "print(f'count(4) 결과 : {temp_list.count(4)}')\n",
    "print(f'count([1, 2]) 결과 : {temp_list.count([1, 2])}')"
   ]
  },
  {
   "cell_type": "markdown",
   "id": "011176f4",
   "metadata": {},
   "source": [
    "#### 인덱싱"
   ]
  },
  {
   "cell_type": "code",
   "execution_count": 13,
   "id": "05c793a1",
   "metadata": {},
   "outputs": [
    {
     "name": "stdout",
     "output_type": "stream",
     "text": [
      "[3] 결과 : 3\n",
      "[-1] 결과 : [1, 2]\n"
     ]
    }
   ],
   "source": [
    "temp_list = [1, 2, 2, 3, 3, 3, 4, 4, 4, 4, 5, [1, 2], [1, 2]]\n",
    "\n",
    "print(f'[3] 결과 : {temp_list[3]}')\n",
    "print(f'[-1] 결과 : {temp_list[-1]}')"
   ]
  },
  {
   "cell_type": "markdown",
   "id": "6f745d3c",
   "metadata": {},
   "source": [
    "#### 슬라이싱"
   ]
  },
  {
   "cell_type": "code",
   "execution_count": 14,
   "id": "6c0fa81b",
   "metadata": {},
   "outputs": [
    {
     "name": "stdout",
     "output_type": "stream",
     "text": [
      "[3:5] 결과 : [3, 3]\n",
      "[:5] 결과 : [1, 2, 2, 3, 3]\n",
      "[3:] 결과 : [3, 3, 3, 4, 4, 4, 4, 5, [1, 2], [1, 2]]\n",
      "[:] 결과 : [1, 2, 2, 3, 3, 3, 4, 4, 4, 4, 5, [1, 2], [1, 2]]\n",
      "[3:5] 결과 : [3, 3]\n"
     ]
    }
   ],
   "source": [
    "temp_list = [1, 2, 2, 3, 3, 3, 4, 4, 4, 4, 5, [1, 2], [1, 2]]\n",
    "\n",
    "print(f'[3:5] 결과 : {temp_list[3:5]}')\n",
    "print(f'[:5] 결과 : {temp_list[:5]}')\n",
    "print(f'[3:] 결과 : {temp_list[3:]}')\n",
    "print(f'[:] 결과 : {temp_list[:]}')\n",
    "print(f'[3:5] 결과 : {temp_list[3:5]}')\n"
   ]
  },
  {
   "cell_type": "markdown",
   "id": "9eed9aa6",
   "metadata": {},
   "source": [
    "### 정렬\n",
    "---"
   ]
  },
  {
   "cell_type": "markdown",
   "id": "2d622ff1",
   "metadata": {},
   "source": [
    "#### sort"
   ]
  },
  {
   "cell_type": "code",
   "execution_count": 15,
   "id": "49f46d1a",
   "metadata": {
    "scrolled": false
   },
   "outputs": [
    {
     "name": "stdout",
     "output_type": "stream",
     "text": [
      "temp_list : [8, 78, 95, 89, 57, 61, 52, 47, 24, 10, 79, 71, 72, 88, 96, 74, 4, 97, 87, 0]\n",
      "sort() 결과 : [0, 4, 8, 10, 24, 47, 52, 57, 61, 71, 72, 74, 78, 79, 87, 88, 89, 95, 96, 97]\n",
      "sort(reverse=True) 결과 : [97, 96, 95, 89, 88, 87, 79, 78, 74, 72, 71, 61, 57, 52, 47, 24, 10, 8, 4, 0]\n",
      "\n",
      "**** 응용 ****\n",
      "\n",
      "temp_list : [[28, 86], [49, 57], [46, 95], [13, 90], [18, 59]]\n",
      "sort(key=lambda x:x[0]) 결과 : [[13, 90], [18, 59], [28, 86], [46, 95], [49, 57]]\n",
      "sort(key=lambda x:x[1]) 결과 : [[49, 57], [18, 59], [28, 86], [13, 90], [46, 95]]\n",
      "sort(key=lambda x:x[0]+x[1]) 결과 : [[18, 59], [13, 90], [49, 57], [28, 86], [46, 95]]\n"
     ]
    }
   ],
   "source": [
    "from random import sample\n",
    "\n",
    "temp_list = sample(range(100), 20)\n",
    "print(f'temp_list : {temp_list}')\n",
    "\n",
    "temp_list.sort()\n",
    "print(f'sort() 결과 : {temp_list}')\n",
    "\n",
    "temp_list.sort(reverse=True)\n",
    "print(f'sort(reverse=True) 결과 : {temp_list}')\n",
    "\n",
    "print('\\n**** 응용 ****\\n')\n",
    "temp_list = [[i, j] for i, j in zip(sample(range(50), 5), sample(range(50, 100), 5))]\n",
    "print(f'temp_list : {temp_list}')\n",
    "\n",
    "temp_list.sort(key=lambda x:x[0])\n",
    "print(f'sort(key=lambda x:x[0]) 결과 : {temp_list}')\n",
    "\n",
    "temp_list.sort(key=lambda x:x[1])\n",
    "print(f'sort(key=lambda x:x[1]) 결과 : {temp_list}')\n",
    "\n",
    "temp_list.sort(key=lambda x:x[0]+x[1])\n",
    "print(f'sort(key=lambda x:x[0]+x[1]) 결과 : {temp_list}')"
   ]
  },
  {
   "cell_type": "markdown",
   "id": "34a8ec36",
   "metadata": {},
   "source": [
    "#### sorted ( 메서드는 아니지만 비슷한 내장 함수)"
   ]
  },
  {
   "cell_type": "code",
   "execution_count": 16,
   "id": "782721c7",
   "metadata": {
    "scrolled": true
   },
   "outputs": [
    {
     "name": "stdout",
     "output_type": "stream",
     "text": [
      "temp_list : [88, 9, 71, 19, 45, 62, 3, 96, 32, 17, 94, 61, 24, 16, 46, 47, 23, 31, 83, 57]\n",
      "sorted() 결과 : [3, 9, 16, 17, 19, 23, 24, 31, 32, 45, 46, 47, 57, 61, 62, 71, 83, 88, 94, 96]\n",
      "sort(reverse=True) 결과 : [96, 94, 88, 83, 71, 62, 61, 57, 47, 46, 45, 32, 31, 24, 23, 19, 17, 16, 9, 3]\n"
     ]
    }
   ],
   "source": [
    "from random import sample\n",
    "\n",
    "temp_list = sample(range(100), 20)\n",
    "print(f'temp_list : {temp_list}')\n",
    "\n",
    "print(f'sorted() 결과 : {sorted(temp_list)}')\n",
    "\n",
    "print(f'sort(reverse=True) 결과 : {sorted(temp_list, reverse=True)}')"
   ]
  },
  {
   "cell_type": "markdown",
   "id": "374fe3a4",
   "metadata": {},
   "source": [
    "#### reverse"
   ]
  },
  {
   "cell_type": "code",
   "execution_count": 17,
   "id": "819e0cc8",
   "metadata": {},
   "outputs": [
    {
     "name": "stdout",
     "output_type": "stream",
     "text": [
      "temp_list : [0, 1, 2, 3, 4, 5, 6, 7, 8, 9, 0, 1, 2, 3, 4]\n",
      "reverse() 결과 : [4, 3, 2, 1, 0, 9, 8, 7, 6, 5, 4, 3, 2, 1, 0]\n"
     ]
    }
   ],
   "source": [
    "temp_list = list(range(10)) + list(range(5))\n",
    "print(f'temp_list : {temp_list}')\n",
    "\n",
    "temp_list.reverse()\n",
    "print(f'reverse() 결과 : {temp_list}')"
   ]
  },
  {
   "cell_type": "markdown",
   "id": "38d8c0b0",
   "metadata": {},
   "source": [
    "#### reversed ( 메서드는 아니지만 비슷한 내장 함수)"
   ]
  },
  {
   "cell_type": "code",
   "execution_count": 18,
   "id": "fe0ea1f4",
   "metadata": {
    "scrolled": true
   },
   "outputs": [
    {
     "name": "stdout",
     "output_type": "stream",
     "text": [
      "temp_list : [0, 1, 2, 3, 4, 5, 6, 7, 8, 9, 0, 1, 2, 3, 4]\n",
      "reversed(temp_list) 결과 : <list_reverseiterator object at 0x00000245726DAC20>\n",
      "iter -> list : [4, 3, 2, 1, 0, 9, 8, 7, 6, 5, 4, 3, 2, 1, 0]\n"
     ]
    }
   ],
   "source": [
    "temp_list = list(range(10)) + list(range(5))\n",
    "print(f'temp_list : {temp_list}')\n",
    "\n",
    "print(f'reversed(temp_list) 결과 : {reversed(temp_list)}')\n",
    "print(f'iter -> list : {list(reversed(temp_list))}')"
   ]
  }
 ],
 "metadata": {
  "kernelspec": {
   "display_name": "Python 3 (ipykernel)",
   "language": "python",
   "name": "python3"
  },
  "language_info": {
   "codemirror_mode": {
    "name": "ipython",
    "version": 3
   },
   "file_extension": ".py",
   "mimetype": "text/x-python",
   "name": "python",
   "nbconvert_exporter": "python",
   "pygments_lexer": "ipython3",
   "version": "3.11.3"
  }
 },
 "nbformat": 4,
 "nbformat_minor": 5
}
